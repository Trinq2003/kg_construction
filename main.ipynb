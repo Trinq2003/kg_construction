{
 "cells": [
  {
   "cell_type": "code",
   "execution_count": null,
   "metadata": {},
   "outputs": [],
   "source": [
    "from datetime import datetime\n",
    "\n",
    "from knowledge_graph.modules.entity.er_extractor import ERExtractor\n",
    "from knowledge_graph.modules.node import EntityNode, ContentNode\n",
    "from configuration.configurations import ERExtractorConfiguration\n",
    "from configuration.llm_inference_configuration import APILLMConfiguration, LocalLLMConfiguration\n",
    "from configuration.embedding_inference_configuration import APIEmbeddingModelConfiguration, LocalEmbeddingModelConfiguration\n",
    "from llm.language_models.azure_gpt import AzureGPT\n",
    "from llm.language_models.hf_local_model import HuggingfaceLocalInference\n",
    "from embedding.embedding_models.hf_embedding import HFLocalEmbeddingModel \n",
    "from exception.entity_exception import EntityDuplicationInOneContentNodeError"
   ]
  },
  {
   "cell_type": "code",
   "execution_count": null,
   "metadata": {},
   "outputs": [],
   "source": [
    "# Local embedding models\n",
    "emb_config = LocalEmbeddingModelConfiguration()\n",
    "emb_config.load(path='configuration/toml/intfloat_ml_e5.toml')\n",
    "emb_model = HFLocalEmbeddingModel(embedding_model_config=emb_config)\n",
    "\n",
    "# Local LLM models\n",
    "triplet_extraction_llm_config = LocalLLMConfiguration()\n",
    "triplet_extraction_llm_config.load(path='configuration/toml/triplex.toml')\n",
    "triplet_extraction_llm = HuggingfaceLocalInference(llm_config=triplet_extraction_llm_config)\n",
    "\n",
    "conference_resolution_llm_config = LocalLLMConfiguration()\n",
    "conference_resolution_llm_config.load(path='configuration/toml/gemma2_ft.toml')\n",
    "conference_resolution_llm = HuggingfaceLocalInference(llm_config=conference_resolution_llm_config)\n",
    "\n",
    "# API LLM models\n",
    "# judgement_llm_config = APILLMConfiguration()\n",
    "# judgement_llm_config.load(path='configuration/toml/gpt_4o.toml')\n",
    "# judgement_llm = AzureGPT(llm_config=judgement_llm_config)\n",
    "\n",
    "# ER Extractor\n",
    "er_config = ERExtractorConfiguration()\n",
    "er_config.load(path='configuration/toml/er_extractor.toml')\n",
    "er_extractor = ERExtractor(er_config=er_config)\n",
    "\n",
    "er_extractor.load_embedding_model(emb_model)\n",
    "er_extractor.load_extraction_llm_model(triplet_extraction_llm)\n",
    "er_extractor.load_conference_resolution_llm_model(conference_resolution_llm)"
   ]
  }
 ],
 "metadata": {
  "kernelspec": {
   "display_name": "kg_construction",
   "language": "python",
   "name": "python3"
  },
  "language_info": {
   "codemirror_mode": {
    "name": "ipython",
    "version": 3
   },
   "file_extension": ".py",
   "mimetype": "text/x-python",
   "name": "python",
   "nbconvert_exporter": "python",
   "pygments_lexer": "ipython3",
   "version": "3.10.16"
  }
 },
 "nbformat": 4,
 "nbformat_minor": 2
}
